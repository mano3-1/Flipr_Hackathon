{
  "nbformat": 4,
  "nbformat_minor": 0,
  "metadata": {
    "colab": {
      "name": "RNN_for_timeseries_task2",
      "provenance": [],
      "collapsed_sections": []
    },
    "kernelspec": {
      "name": "python3",
      "display_name": "Python 3"
    }
  },
  "cells": [
    {
      "cell_type": "markdown",
      "metadata": {
        "id": "XBA0nCLu7gJv",
        "colab_type": "text"
      },
      "source": [
        "Hello,\n",
        "I am A Sai Manoj, student at National Institute of Technology, Calicut.<br/>\n",
        "In this kernel, I am going to train a RNN for time series prediction(part 2 in the given task) in a self supervised way!<br/>\n",
        "We know that every data has some flaws and this data is not an exception. The data has some missing values in it. We can deal with the missing values by directly dropping them or filling them with some constant. But both these methods have their own disadvantages.<br/>\n",
        "First one will effect the size of training data and in the later one, we are imposing a high error in missing values which might effect our model's performace.<br/>\n",
        "So I came up with a **self supervised way of training** which makes model to get an overview of data.\n",
        "\n",
        "## My Idea:\n",
        "1. Building a dynamic RNN with dense layers on top of it.\n",
        "2. Now, this model takes sequence of length 5 of which we randomly make some elements zero(I have made 1 or 2 elements zero randomly) and a mask having 1's at the positions where we made zeros in the sequence and 0's at rest of the positions as inputs and output the a sequence of same length 5\n",
        "3. we will optimize the above built RNN to output a sequence of same length 5, having missing values.This concludes our pretraining part which is purely inspired from masked language modelling from field of Natural Language Processing.\n",
        "4. Now, we will take the pretrained model and remove the dense layers(which are on top of RNN) and retrain this model to predict put calls ratio on august 15th from the data of august 10th,11th,12th,14th.\n",
        "5. That's it! we are done with building a time series model which can predict put calls ratio by considering the values of prior 5 days.\n",
        " \n",
        "Feel free to go through the below code to get to know about the additional information like hyperparemeters, architecture, etc.,.\n"
      ]
    },
    {
      "cell_type": "code",
      "metadata": {
        "id": "zQjKgBx8D7vz",
        "colab_type": "code",
        "colab": {
          "base_uri": "https://localhost:8080/",
          "height": 34
        },
        "outputId": "927993fb-f1c9-4635-bddb-9c55ae0674ab"
      },
      "source": [
        "from google.colab import drive\n",
        "#mounting my google drive\n",
        "drive.mount('/content/gdrive')"
      ],
      "execution_count": null,
      "outputs": [
        {
          "output_type": "stream",
          "text": [
            "Drive already mounted at /content/gdrive; to attempt to forcibly remount, call drive.mount(\"/content/gdrive\", force_remount=True).\n"
          ],
          "name": "stdout"
        }
      ]
    },
    {
      "cell_type": "code",
      "metadata": {
        "id": "E_2npVwEY3aE",
        "colab_type": "code",
        "colab": {
          "base_uri": "https://localhost:8080/",
          "height": 662
        },
        "outputId": "9d6bcbc1-a606-4fb0-a213-855521ca2064"
      },
      "source": [
        "!pip install tensorflow==2.0"
      ],
      "execution_count": null,
      "outputs": [
        {
          "output_type": "stream",
          "text": [
            "Requirement already satisfied: tensorflow==2.0 in /usr/local/lib/python3.6/dist-packages (2.0.0)\n",
            "Requirement already satisfied: wheel>=0.26 in /usr/local/lib/python3.6/dist-packages (from tensorflow==2.0) (0.34.2)\n",
            "Requirement already satisfied: gast==0.2.2 in /usr/local/lib/python3.6/dist-packages (from tensorflow==2.0) (0.2.2)\n",
            "Requirement already satisfied: tensorflow-estimator<2.1.0,>=2.0.0 in /usr/local/lib/python3.6/dist-packages (from tensorflow==2.0) (2.0.1)\n",
            "Requirement already satisfied: astor>=0.6.0 in /usr/local/lib/python3.6/dist-packages (from tensorflow==2.0) (0.8.1)\n",
            "Requirement already satisfied: wrapt>=1.11.1 in /usr/local/lib/python3.6/dist-packages (from tensorflow==2.0) (1.12.1)\n",
            "Requirement already satisfied: protobuf>=3.6.1 in /usr/local/lib/python3.6/dist-packages (from tensorflow==2.0) (3.12.4)\n",
            "Requirement already satisfied: keras-applications>=1.0.8 in /usr/local/lib/python3.6/dist-packages (from tensorflow==2.0) (1.0.8)\n",
            "Requirement already satisfied: six>=1.10.0 in /usr/local/lib/python3.6/dist-packages (from tensorflow==2.0) (1.15.0)\n",
            "Requirement already satisfied: keras-preprocessing>=1.0.5 in /usr/local/lib/python3.6/dist-packages (from tensorflow==2.0) (1.1.2)\n",
            "Requirement already satisfied: opt-einsum>=2.3.2 in /usr/local/lib/python3.6/dist-packages (from tensorflow==2.0) (3.3.0)\n",
            "Requirement already satisfied: termcolor>=1.1.0 in /usr/local/lib/python3.6/dist-packages (from tensorflow==2.0) (1.1.0)\n",
            "Requirement already satisfied: grpcio>=1.8.6 in /usr/local/lib/python3.6/dist-packages (from tensorflow==2.0) (1.31.0)\n",
            "Requirement already satisfied: google-pasta>=0.1.6 in /usr/local/lib/python3.6/dist-packages (from tensorflow==2.0) (0.2.0)\n",
            "Requirement already satisfied: numpy<2.0,>=1.16.0 in /usr/local/lib/python3.6/dist-packages (from tensorflow==2.0) (1.18.5)\n",
            "Requirement already satisfied: tensorboard<2.1.0,>=2.0.0 in /usr/local/lib/python3.6/dist-packages (from tensorflow==2.0) (2.0.2)\n",
            "Requirement already satisfied: absl-py>=0.7.0 in /usr/local/lib/python3.6/dist-packages (from tensorflow==2.0) (0.9.0)\n",
            "Requirement already satisfied: setuptools in /usr/local/lib/python3.6/dist-packages (from protobuf>=3.6.1->tensorflow==2.0) (49.2.0)\n",
            "Requirement already satisfied: h5py in /usr/local/lib/python3.6/dist-packages (from keras-applications>=1.0.8->tensorflow==2.0) (2.10.0)\n",
            "Requirement already satisfied: markdown>=2.6.8 in /usr/local/lib/python3.6/dist-packages (from tensorboard<2.1.0,>=2.0.0->tensorflow==2.0) (3.2.2)\n",
            "Requirement already satisfied: google-auth<2,>=1.6.3 in /usr/local/lib/python3.6/dist-packages (from tensorboard<2.1.0,>=2.0.0->tensorflow==2.0) (1.17.2)\n",
            "Requirement already satisfied: requests<3,>=2.21.0 in /usr/local/lib/python3.6/dist-packages (from tensorboard<2.1.0,>=2.0.0->tensorflow==2.0) (2.23.0)\n",
            "Requirement already satisfied: google-auth-oauthlib<0.5,>=0.4.1 in /usr/local/lib/python3.6/dist-packages (from tensorboard<2.1.0,>=2.0.0->tensorflow==2.0) (0.4.1)\n",
            "Requirement already satisfied: werkzeug>=0.11.15 in /usr/local/lib/python3.6/dist-packages (from tensorboard<2.1.0,>=2.0.0->tensorflow==2.0) (1.0.1)\n",
            "Requirement already satisfied: importlib-metadata; python_version < \"3.8\" in /usr/local/lib/python3.6/dist-packages (from markdown>=2.6.8->tensorboard<2.1.0,>=2.0.0->tensorflow==2.0) (1.7.0)\n",
            "Requirement already satisfied: rsa<5,>=3.1.4; python_version >= \"3\" in /usr/local/lib/python3.6/dist-packages (from google-auth<2,>=1.6.3->tensorboard<2.1.0,>=2.0.0->tensorflow==2.0) (4.6)\n",
            "Requirement already satisfied: cachetools<5.0,>=2.0.0 in /usr/local/lib/python3.6/dist-packages (from google-auth<2,>=1.6.3->tensorboard<2.1.0,>=2.0.0->tensorflow==2.0) (4.1.1)\n",
            "Requirement already satisfied: pyasn1-modules>=0.2.1 in /usr/local/lib/python3.6/dist-packages (from google-auth<2,>=1.6.3->tensorboard<2.1.0,>=2.0.0->tensorflow==2.0) (0.2.8)\n",
            "Requirement already satisfied: certifi>=2017.4.17 in /usr/local/lib/python3.6/dist-packages (from requests<3,>=2.21.0->tensorboard<2.1.0,>=2.0.0->tensorflow==2.0) (2020.6.20)\n",
            "Requirement already satisfied: urllib3!=1.25.0,!=1.25.1,<1.26,>=1.21.1 in /usr/local/lib/python3.6/dist-packages (from requests<3,>=2.21.0->tensorboard<2.1.0,>=2.0.0->tensorflow==2.0) (1.24.3)\n",
            "Requirement already satisfied: idna<3,>=2.5 in /usr/local/lib/python3.6/dist-packages (from requests<3,>=2.21.0->tensorboard<2.1.0,>=2.0.0->tensorflow==2.0) (2.10)\n",
            "Requirement already satisfied: chardet<4,>=3.0.2 in /usr/local/lib/python3.6/dist-packages (from requests<3,>=2.21.0->tensorboard<2.1.0,>=2.0.0->tensorflow==2.0) (3.0.4)\n",
            "Requirement already satisfied: requests-oauthlib>=0.7.0 in /usr/local/lib/python3.6/dist-packages (from google-auth-oauthlib<0.5,>=0.4.1->tensorboard<2.1.0,>=2.0.0->tensorflow==2.0) (1.3.0)\n",
            "Requirement already satisfied: zipp>=0.5 in /usr/local/lib/python3.6/dist-packages (from importlib-metadata; python_version < \"3.8\"->markdown>=2.6.8->tensorboard<2.1.0,>=2.0.0->tensorflow==2.0) (3.1.0)\n",
            "Requirement already satisfied: pyasn1>=0.1.3 in /usr/local/lib/python3.6/dist-packages (from rsa<5,>=3.1.4; python_version >= \"3\"->google-auth<2,>=1.6.3->tensorboard<2.1.0,>=2.0.0->tensorflow==2.0) (0.4.8)\n",
            "Requirement already satisfied: oauthlib>=3.0.0 in /usr/local/lib/python3.6/dist-packages (from requests-oauthlib>=0.7.0->google-auth-oauthlib<0.5,>=0.4.1->tensorboard<2.1.0,>=2.0.0->tensorflow==2.0) (3.1.0)\n"
          ],
          "name": "stdout"
        }
      ]
    },
    {
      "cell_type": "code",
      "metadata": {
        "id": "48MKcrLnEJUa",
        "colab_type": "code",
        "colab": {}
      },
      "source": [
        "#importing required libraries\n",
        "import pandas as pd\n",
        "import os\n",
        "import matplotlib.pyplot as plt\n",
        "import numpy as np\n",
        "import tensorflow as tf\n",
        "from tensorflow.keras.models import Model\n",
        "from tensorflow.keras.layers import Conv1D, Input, Bidirectional, LSTM, RNN, Dense, Concatenate\n",
        "from tensorflow.keras import backend as K\n",
        "import random\n",
        "from tensorflow.keras.callbacks import ReduceLROnPlateau, ModelCheckpoint, EarlyStopping\n",
        "from tensorflow.keras.optimizers import Adam\n",
        "from tensorflow.keras.utils import Sequence\n",
        "from tensorflow.keras.models import load_model"
      ],
      "execution_count": null,
      "outputs": []
    },
    {
      "cell_type": "markdown",
      "metadata": {
        "id": "hpiK_m1RIgTb",
        "colab_type": "text"
      },
      "source": [
        "#Pretraining Phase"
      ]
    },
    {
      "cell_type": "code",
      "metadata": {
        "id": "R6L9J_2CEZsG",
        "colab_type": "code",
        "colab": {
          "base_uri": "https://localhost:8080/",
          "height": 206
        },
        "outputId": "5ceff5ac-a5a3-478e-8161-d68562c80f76"
      },
      "source": [
        "#directories\n",
        "test_dir = '/content/gdrive/My Drive/hackathon/Test_dataset.xlsx'\n",
        "#loading data\n",
        "test_data =pd.read_excel(test_dir,'Put-Call_TS')\n",
        "#changing names\n",
        "test_data=test_data.rename(columns={'Put-Call Ratio':'aug10','Unnamed: 2':'aug11','Unnamed: 3':'aug12','Unnamed: 4':'aug13','Unnamed: 5':'aug14','Unnamed: 6':'aug15'})\n",
        "#dropping first row(which is nothing but date and time)\n",
        "test_data=test_data.drop([0],axis=0)\n",
        "#show top 5 rows of training dataframe\n",
        "test_data.head()"
      ],
      "execution_count": null,
      "outputs": [
        {
          "output_type": "execute_result",
          "data": {
            "text/html": [
              "<div>\n",
              "<style scoped>\n",
              "    .dataframe tbody tr th:only-of-type {\n",
              "        vertical-align: middle;\n",
              "    }\n",
              "\n",
              "    .dataframe tbody tr th {\n",
              "        vertical-align: top;\n",
              "    }\n",
              "\n",
              "    .dataframe thead th {\n",
              "        text-align: right;\n",
              "    }\n",
              "</style>\n",
              "<table border=\"1\" class=\"dataframe\">\n",
              "  <thead>\n",
              "    <tr style=\"text-align: right;\">\n",
              "      <th></th>\n",
              "      <th>Stock Index</th>\n",
              "      <th>aug10</th>\n",
              "      <th>aug11</th>\n",
              "      <th>aug12</th>\n",
              "      <th>aug13</th>\n",
              "      <th>aug14</th>\n",
              "      <th>aug15</th>\n",
              "    </tr>\n",
              "  </thead>\n",
              "  <tbody>\n",
              "    <tr>\n",
              "      <th>1</th>\n",
              "      <td>AC3235</td>\n",
              "      <td>0.8</td>\n",
              "      <td>0.66</td>\n",
              "      <td>0.7724</td>\n",
              "      <td>0.983224</td>\n",
              "      <td>0.901211</td>\n",
              "      <td>0.898368</td>\n",
              "    </tr>\n",
              "    <tr>\n",
              "      <th>2</th>\n",
              "      <td>AC3236</td>\n",
              "      <td>0.86</td>\n",
              "      <td>0.732</td>\n",
              "      <td>0.85448</td>\n",
              "      <td>1.08664</td>\n",
              "      <td>1.01704</td>\n",
              "      <td>1.02926</td>\n",
              "    </tr>\n",
              "    <tr>\n",
              "      <th>3</th>\n",
              "      <td>AC3237</td>\n",
              "      <td>0.93</td>\n",
              "      <td>0.816</td>\n",
              "      <td>0.95024</td>\n",
              "      <td>1.2073</td>\n",
              "      <td>NaN</td>\n",
              "      <td>1.18196</td>\n",
              "    </tr>\n",
              "    <tr>\n",
              "      <th>4</th>\n",
              "      <td>AC3238</td>\n",
              "      <td>1.09</td>\n",
              "      <td>1.008</td>\n",
              "      <td>1.16912</td>\n",
              "      <td>1.48309</td>\n",
              "      <td>1.46106</td>\n",
              "      <td>1.531</td>\n",
              "    </tr>\n",
              "    <tr>\n",
              "      <th>5</th>\n",
              "      <td>AC3239</td>\n",
              "      <td>NaN</td>\n",
              "      <td>1.104</td>\n",
              "      <td>1.27856</td>\n",
              "      <td>1.62099</td>\n",
              "      <td>1.6155</td>\n",
              "      <td>1.70552</td>\n",
              "    </tr>\n",
              "  </tbody>\n",
              "</table>\n",
              "</div>"
            ],
            "text/plain": [
              "  Stock Index aug10  aug11    aug12     aug13     aug14     aug15\n",
              "1      AC3235   0.8   0.66   0.7724  0.983224  0.901211  0.898368\n",
              "2      AC3236  0.86  0.732  0.85448   1.08664   1.01704   1.02926\n",
              "3      AC3237  0.93  0.816  0.95024    1.2073       NaN   1.18196\n",
              "4      AC3238  1.09  1.008  1.16912   1.48309   1.46106     1.531\n",
              "5      AC3239   NaN  1.104  1.27856   1.62099    1.6155   1.70552"
            ]
          },
          "metadata": {
            "tags": []
          },
          "execution_count": 7
        }
      ]
    },
    {
      "cell_type": "code",
      "metadata": {
        "id": "KLMTsCqdE_1n",
        "colab_type": "code",
        "colab": {
          "base_uri": "https://localhost:8080/",
          "height": 173
        },
        "outputId": "f3d0953e-772f-4a83-94f8-36c7dec2154b"
      },
      "source": [
        "#no of missing values in dataset\n",
        "print('no of missing values:')\n",
        "print(test_data.isna().sum())"
      ],
      "execution_count": null,
      "outputs": [
        {
          "output_type": "stream",
          "text": [
            "no of missing values:\n",
            "Stock Index      0\n",
            "aug10          429\n",
            "aug11            2\n",
            "aug12           57\n",
            "aug13           14\n",
            "aug14          105\n",
            "aug15          239\n",
            "dtype: int64\n"
          ],
          "name": "stdout"
        }
      ]
    },
    {
      "cell_type": "code",
      "metadata": {
        "id": "fuiT3MKNFGVU",
        "colab_type": "code",
        "colab": {}
      },
      "source": [
        "#dropping the missing data in pretraining phase(later we will retrieve it and use the whole data in fine tuning the model)\n",
        "test_data = test_data.dropna()"
      ],
      "execution_count": null,
      "outputs": []
    },
    {
      "cell_type": "code",
      "metadata": {
        "id": "s20O2-YNId91",
        "colab_type": "code",
        "colab": {
          "base_uri": "https://localhost:8080/",
          "height": 206
        },
        "outputId": "5cc1727b-a3c5-475c-a271-dcebd5582c8d"
      },
      "source": [
        "test_data.head()"
      ],
      "execution_count": null,
      "outputs": [
        {
          "output_type": "execute_result",
          "data": {
            "text/html": [
              "<div>\n",
              "<style scoped>\n",
              "    .dataframe tbody tr th:only-of-type {\n",
              "        vertical-align: middle;\n",
              "    }\n",
              "\n",
              "    .dataframe tbody tr th {\n",
              "        vertical-align: top;\n",
              "    }\n",
              "\n",
              "    .dataframe thead th {\n",
              "        text-align: right;\n",
              "    }\n",
              "</style>\n",
              "<table border=\"1\" class=\"dataframe\">\n",
              "  <thead>\n",
              "    <tr style=\"text-align: right;\">\n",
              "      <th></th>\n",
              "      <th>Stock Index</th>\n",
              "      <th>aug10</th>\n",
              "      <th>aug11</th>\n",
              "      <th>aug12</th>\n",
              "      <th>aug13</th>\n",
              "      <th>aug14</th>\n",
              "      <th>aug15</th>\n",
              "    </tr>\n",
              "  </thead>\n",
              "  <tbody>\n",
              "    <tr>\n",
              "      <th>1</th>\n",
              "      <td>AC3235</td>\n",
              "      <td>0.8</td>\n",
              "      <td>0.66</td>\n",
              "      <td>0.7724</td>\n",
              "      <td>0.983224</td>\n",
              "      <td>0.901211</td>\n",
              "      <td>0.898368</td>\n",
              "    </tr>\n",
              "    <tr>\n",
              "      <th>2</th>\n",
              "      <td>AC3236</td>\n",
              "      <td>0.86</td>\n",
              "      <td>0.732</td>\n",
              "      <td>0.85448</td>\n",
              "      <td>1.08664</td>\n",
              "      <td>1.01704</td>\n",
              "      <td>1.02926</td>\n",
              "    </tr>\n",
              "    <tr>\n",
              "      <th>4</th>\n",
              "      <td>AC3238</td>\n",
              "      <td>1.09</td>\n",
              "      <td>1.008</td>\n",
              "      <td>1.16912</td>\n",
              "      <td>1.48309</td>\n",
              "      <td>1.46106</td>\n",
              "      <td>1.531</td>\n",
              "    </tr>\n",
              "    <tr>\n",
              "      <th>7</th>\n",
              "      <td>AC3241</td>\n",
              "      <td>1.23</td>\n",
              "      <td>1.176</td>\n",
              "      <td>1.36064</td>\n",
              "      <td>1.72441</td>\n",
              "      <td>1.73134</td>\n",
              "      <td>1.83641</td>\n",
              "    </tr>\n",
              "    <tr>\n",
              "      <th>8</th>\n",
              "      <td>AC3242</td>\n",
              "      <td>1</td>\n",
              "      <td>0.9</td>\n",
              "      <td>1.046</td>\n",
              "      <td>1.32796</td>\n",
              "      <td>1.28732</td>\n",
              "      <td>1.33467</td>\n",
              "    </tr>\n",
              "  </tbody>\n",
              "</table>\n",
              "</div>"
            ],
            "text/plain": [
              "  Stock Index aug10  aug11    aug12     aug13     aug14     aug15\n",
              "1      AC3235   0.8   0.66   0.7724  0.983224  0.901211  0.898368\n",
              "2      AC3236  0.86  0.732  0.85448   1.08664   1.01704   1.02926\n",
              "4      AC3238  1.09  1.008  1.16912   1.48309   1.46106     1.531\n",
              "7      AC3241  1.23  1.176  1.36064   1.72441   1.73134   1.83641\n",
              "8      AC3242     1    0.9    1.046   1.32796   1.28732   1.33467"
            ]
          },
          "metadata": {
            "tags": []
          },
          "execution_count": 10
        }
      ]
    },
    {
      "cell_type": "code",
      "metadata": {
        "id": "v4M12J9rUArM",
        "colab_type": "code",
        "colab": {
          "base_uri": "https://localhost:8080/",
          "height": 416
        },
        "outputId": "cf062655-474e-4a51-8da9-3745c2ca7ceb"
      },
      "source": [
        "#build model\n",
        "def build_model(MAX_LEN):\n",
        "    inputs = Input((None,2))\n",
        "    x = Bidirectional(LSTM(64,return_sequences=True))(inputs)\n",
        "    x = Bidirectional(LSTM(64))(x)\n",
        "    x = Dense(MAX_LEN,activation='relu')(x)\n",
        "    x_reshape = tf.expand_dims(x,axis = -1)\n",
        "    zeros = tf.zeros_like(x_reshape)\n",
        "    x_pad = Concatenate(axis=-1)([x_reshape,zeros])\n",
        "    model = Model(inputs,x_pad)\n",
        "    final_model = Model(inputs,x)\n",
        "    return model\n",
        "model = build_model(5)\n",
        "model.summary()\n",
        "#loss\n",
        "def regloss(y_true,y_pred):\n",
        "    mask = y_true[...,1]\n",
        "    y_true = y_true[...,0]\n",
        "    y_pred = y_pred[...,0]\n",
        "    loss = K.sum(((y_true-y_pred)**2)*mask,axis=-1)\n",
        "    return loss"
      ],
      "execution_count": null,
      "outputs": [
        {
          "output_type": "stream",
          "text": [
            "Model: \"model\"\n",
            "__________________________________________________________________________________________________\n",
            "Layer (type)                    Output Shape         Param #     Connected to                     \n",
            "==================================================================================================\n",
            "input_1 (InputLayer)            [(None, None, 2)]    0                                            \n",
            "__________________________________________________________________________________________________\n",
            "bidirectional (Bidirectional)   (None, None, 128)    34304       input_1[0][0]                    \n",
            "__________________________________________________________________________________________________\n",
            "bidirectional_1 (Bidirectional) (None, 128)          98816       bidirectional[0][0]              \n",
            "__________________________________________________________________________________________________\n",
            "dense (Dense)                   (None, 5)            645         bidirectional_1[0][0]            \n",
            "__________________________________________________________________________________________________\n",
            "tf_op_layer_ExpandDims (TensorF [(None, 5, 1)]       0           dense[0][0]                      \n",
            "__________________________________________________________________________________________________\n",
            "tf_op_layer_zeros_like (TensorF [(None, 5, 1)]       0           tf_op_layer_ExpandDims[0][0]     \n",
            "__________________________________________________________________________________________________\n",
            "concatenate (Concatenate)       (None, 5, 2)         0           tf_op_layer_ExpandDims[0][0]     \n",
            "                                                                 tf_op_layer_zeros_like[0][0]     \n",
            "==================================================================================================\n",
            "Total params: 133,765\n",
            "Trainable params: 133,765\n",
            "Non-trainable params: 0\n",
            "__________________________________________________________________________________________________\n"
          ],
          "name": "stdout"
        }
      ]
    },
    {
      "cell_type": "code",
      "metadata": {
        "id": "SKS0fcC8Fyzc",
        "colab_type": "code",
        "colab": {}
      },
      "source": [
        "#preparing data\n",
        "X = []\n",
        "Y = []\n",
        "for i in range(test_data.shape[0]):\n",
        "    #considering 5 at a time\n",
        "    x = test_data.iloc[i,1:6].values.astype('float32')\n",
        "    x_ = test_data.iloc[i,2:7].values.astype('float32')\n",
        "    mask = np.zeros((5,1))\n",
        "    mask_ = np.zeros((5,1))\n",
        "    nums = random.choice([1,2])\n",
        "    nums_ = random.choice([1,2])\n",
        "    indicies = random.choices([0,1,2,3,4],k=nums)\n",
        "    indicies_ = random.choices([0,1,2,3,4],k=nums_)\n",
        "    mask[indicies] = 1\n",
        "    mask[indicies_] = 1\n",
        "    y_true = np.concatenate((np.expand_dims(x,axis = -1),mask),axis=-1)\n",
        "    x1 = x*(1-mask.reshape(-1))\n",
        "    y_true_ = np.concatenate((np.expand_dims(x_,axis = -1),mask_),axis=-1)\n",
        "    x1_ = x*(1-mask.reshape(-1))\n",
        "    input = np.concatenate((np.expand_dims(x1,axis = -1),mask),axis=-1)\n",
        "    input_ = np.concatenate((np.expand_dims(x1_,axis = -1),mask_),axis=-1)\n",
        "    X.append(input)\n",
        "    X.append(input_)\n",
        "    Y.append(y_true)\n",
        "    Y.append(y_true_)\n",
        "X = np.asarray(X)\n",
        "Y = np.asarray(Y)"
      ],
      "execution_count": null,
      "outputs": []
    },
    {
      "cell_type": "code",
      "metadata": {
        "id": "OQOldwTq9QqJ",
        "colab_type": "code",
        "colab": {
          "base_uri": "https://localhost:8080/",
          "height": 1000
        },
        "outputId": "e39b747e-2c37-45c4-f462-27c36a8978df"
      },
      "source": [
        "#splitting\n",
        "valid_data = (X[:150],Y[:150])\n",
        "model = build_model(5)\n",
        "#optimizer \n",
        "optimizer = Adam(lr=0.0001)\n",
        "#compile model\n",
        "model.compile(loss=regloss,optimizer=optimizer)\n",
        "#self supervised training\n",
        "history = model.fit(X[150:],Y[150:],batch_size=32,verbose=1,epochs=200,validation_data=valid_data)"
      ],
      "execution_count": null,
      "outputs": [
        {
          "output_type": "stream",
          "text": [
            "Train on 5280 samples, validate on 150 samples\n",
            "Epoch 1/200\n",
            "5280/5280 [==============================] - 10s 2ms/sample - loss: 0.7882 - val_loss: 0.4375\n",
            "Epoch 2/200\n",
            "5280/5280 [==============================] - 3s 491us/sample - loss: 0.4206 - val_loss: 0.4344\n",
            "Epoch 3/200\n",
            "5280/5280 [==============================] - 3s 496us/sample - loss: 0.4166 - val_loss: 0.4326\n",
            "Epoch 4/200\n",
            "5280/5280 [==============================] - 3s 493us/sample - loss: 0.4138 - val_loss: 0.4295\n",
            "Epoch 5/200\n",
            "5280/5280 [==============================] - 3s 498us/sample - loss: 0.4109 - val_loss: 0.4244\n",
            "Epoch 6/200\n",
            "5280/5280 [==============================] - 3s 494us/sample - loss: 0.4081 - val_loss: 0.4206\n",
            "Epoch 7/200\n",
            "5280/5280 [==============================] - 3s 488us/sample - loss: 0.4058 - val_loss: 0.4192\n",
            "Epoch 8/200\n",
            "5280/5280 [==============================] - 3s 506us/sample - loss: 0.4038 - val_loss: 0.4162\n",
            "Epoch 9/200\n",
            "5280/5280 [==============================] - 3s 496us/sample - loss: 0.4019 - val_loss: 0.4151\n",
            "Epoch 10/200\n",
            "5280/5280 [==============================] - 3s 492us/sample - loss: 0.4008 - val_loss: 0.4133\n",
            "Epoch 11/200\n",
            "5280/5280 [==============================] - 3s 489us/sample - loss: 0.4004 - val_loss: 0.4132\n",
            "Epoch 12/200\n",
            "5280/5280 [==============================] - 3s 496us/sample - loss: 0.3998 - val_loss: 0.4117\n",
            "Epoch 13/200\n",
            "5280/5280 [==============================] - 3s 495us/sample - loss: 0.3993 - val_loss: 0.4109\n",
            "Epoch 14/200\n",
            "5280/5280 [==============================] - 3s 497us/sample - loss: 0.3989 - val_loss: 0.4125\n",
            "Epoch 15/200\n",
            "5280/5280 [==============================] - 3s 487us/sample - loss: 0.3989 - val_loss: 0.4116\n",
            "Epoch 16/200\n",
            "5280/5280 [==============================] - 3s 494us/sample - loss: 0.3982 - val_loss: 0.4128\n",
            "Epoch 17/200\n",
            "5280/5280 [==============================] - 3s 490us/sample - loss: 0.3980 - val_loss: 0.4112\n",
            "Epoch 18/200\n",
            "5280/5280 [==============================] - 3s 504us/sample - loss: 0.3977 - val_loss: 0.4104\n",
            "Epoch 19/200\n",
            "5280/5280 [==============================] - 3s 500us/sample - loss: 0.3974 - val_loss: 0.4102\n",
            "Epoch 20/200\n",
            "5280/5280 [==============================] - 3s 503us/sample - loss: 0.3973 - val_loss: 0.4092\n",
            "Epoch 21/200\n",
            "5280/5280 [==============================] - 3s 499us/sample - loss: 0.3969 - val_loss: 0.4100\n",
            "Epoch 22/200\n",
            "5280/5280 [==============================] - 3s 508us/sample - loss: 0.3968 - val_loss: 0.4078\n",
            "Epoch 23/200\n",
            "5280/5280 [==============================] - 3s 488us/sample - loss: 0.3965 - val_loss: 0.4088\n",
            "Epoch 24/200\n",
            "5280/5280 [==============================] - 3s 485us/sample - loss: 0.3962 - val_loss: 0.4073\n",
            "Epoch 25/200\n",
            "5280/5280 [==============================] - 3s 486us/sample - loss: 0.3960 - val_loss: 0.4085\n",
            "Epoch 26/200\n",
            "5280/5280 [==============================] - 3s 493us/sample - loss: 0.3959 - val_loss: 0.4066\n",
            "Epoch 27/200\n",
            "5280/5280 [==============================] - 3s 493us/sample - loss: 0.3958 - val_loss: 0.4075\n",
            "Epoch 28/200\n",
            "5280/5280 [==============================] - 3s 490us/sample - loss: 0.3956 - val_loss: 0.4074\n",
            "Epoch 29/200\n",
            "5280/5280 [==============================] - 3s 493us/sample - loss: 0.3954 - val_loss: 0.4065\n",
            "Epoch 30/200\n",
            "5280/5280 [==============================] - 3s 494us/sample - loss: 0.3952 - val_loss: 0.4075\n",
            "Epoch 31/200\n",
            "5280/5280 [==============================] - 3s 494us/sample - loss: 0.3953 - val_loss: 0.4095\n",
            "Epoch 32/200\n",
            "5280/5280 [==============================] - 3s 487us/sample - loss: 0.3952 - val_loss: 0.4062\n",
            "Epoch 33/200\n",
            "5280/5280 [==============================] - 3s 491us/sample - loss: 0.3950 - val_loss: 0.4055\n",
            "Epoch 34/200\n",
            "5280/5280 [==============================] - 3s 496us/sample - loss: 0.3950 - val_loss: 0.4071\n",
            "Epoch 35/200\n",
            "5280/5280 [==============================] - 3s 492us/sample - loss: 0.3948 - val_loss: 0.4052\n",
            "Epoch 36/200\n",
            "5280/5280 [==============================] - 3s 488us/sample - loss: 0.3948 - val_loss: 0.4056\n",
            "Epoch 37/200\n",
            "5280/5280 [==============================] - 3s 496us/sample - loss: 0.3947 - val_loss: 0.4052\n",
            "Epoch 38/200\n",
            "5280/5280 [==============================] - 3s 490us/sample - loss: 0.3946 - val_loss: 0.4056\n",
            "Epoch 39/200\n",
            "5280/5280 [==============================] - 3s 490us/sample - loss: 0.3947 - val_loss: 0.4049\n",
            "Epoch 40/200\n",
            "5280/5280 [==============================] - 3s 491us/sample - loss: 0.3945 - val_loss: 0.4049\n",
            "Epoch 41/200\n",
            "5280/5280 [==============================] - 3s 489us/sample - loss: 0.3945 - val_loss: 0.4054\n",
            "Epoch 42/200\n",
            "5280/5280 [==============================] - 3s 495us/sample - loss: 0.3944 - val_loss: 0.4054\n",
            "Epoch 43/200\n",
            "5280/5280 [==============================] - 3s 498us/sample - loss: 0.3944 - val_loss: 0.4046\n",
            "Epoch 44/200\n",
            "5280/5280 [==============================] - 3s 495us/sample - loss: 0.3944 - val_loss: 0.4047\n",
            "Epoch 45/200\n",
            "5280/5280 [==============================] - 3s 496us/sample - loss: 0.3943 - val_loss: 0.4048\n",
            "Epoch 46/200\n",
            "5280/5280 [==============================] - 3s 497us/sample - loss: 0.3943 - val_loss: 0.4062\n",
            "Epoch 47/200\n",
            "5280/5280 [==============================] - 3s 499us/sample - loss: 0.3943 - val_loss: 0.4041\n",
            "Epoch 48/200\n",
            "5280/5280 [==============================] - 3s 490us/sample - loss: 0.3942 - val_loss: 0.4048\n",
            "Epoch 49/200\n",
            "5280/5280 [==============================] - 3s 497us/sample - loss: 0.3943 - val_loss: 0.4051\n",
            "Epoch 50/200\n",
            "5280/5280 [==============================] - 3s 490us/sample - loss: 0.3942 - val_loss: 0.4042\n",
            "Epoch 51/200\n",
            "5280/5280 [==============================] - 3s 497us/sample - loss: 0.3941 - val_loss: 0.4043\n",
            "Epoch 52/200\n",
            "5280/5280 [==============================] - 3s 492us/sample - loss: 0.3941 - val_loss: 0.4041\n",
            "Epoch 53/200\n",
            "5280/5280 [==============================] - 3s 492us/sample - loss: 0.3941 - val_loss: 0.4045\n",
            "Epoch 54/200\n",
            "5280/5280 [==============================] - 3s 493us/sample - loss: 0.3941 - val_loss: 0.4040\n",
            "Epoch 55/200\n",
            "5280/5280 [==============================] - 3s 493us/sample - loss: 0.3941 - val_loss: 0.4041\n",
            "Epoch 56/200\n",
            "5280/5280 [==============================] - 3s 493us/sample - loss: 0.3941 - val_loss: 0.4046\n",
            "Epoch 57/200\n",
            "5280/5280 [==============================] - 3s 487us/sample - loss: 0.3940 - val_loss: 0.4044\n",
            "Epoch 58/200\n",
            "5280/5280 [==============================] - 3s 494us/sample - loss: 0.3940 - val_loss: 0.4043\n",
            "Epoch 59/200\n",
            "5280/5280 [==============================] - 3s 499us/sample - loss: 0.3940 - val_loss: 0.4039\n",
            "Epoch 60/200\n",
            "5280/5280 [==============================] - 3s 498us/sample - loss: 0.3939 - val_loss: 0.4044\n",
            "Epoch 61/200\n",
            "5280/5280 [==============================] - 3s 491us/sample - loss: 0.3940 - val_loss: 0.4038\n",
            "Epoch 62/200\n",
            "5280/5280 [==============================] - 3s 489us/sample - loss: 0.3939 - val_loss: 0.4039\n",
            "Epoch 63/200\n",
            "5280/5280 [==============================] - 3s 494us/sample - loss: 0.3939 - val_loss: 0.4039\n",
            "Epoch 64/200\n",
            "5280/5280 [==============================] - 3s 488us/sample - loss: 0.3939 - val_loss: 0.4038\n",
            "Epoch 65/200\n",
            "5280/5280 [==============================] - 3s 489us/sample - loss: 0.3939 - val_loss: 0.4038\n",
            "Epoch 66/200\n",
            "5280/5280 [==============================] - 3s 488us/sample - loss: 0.3939 - val_loss: 0.4038\n",
            "Epoch 67/200\n",
            "5280/5280 [==============================] - 3s 488us/sample - loss: 0.3938 - val_loss: 0.4038\n",
            "Epoch 68/200\n",
            "5280/5280 [==============================] - 3s 495us/sample - loss: 0.3938 - val_loss: 0.4040\n",
            "Epoch 69/200\n",
            "5280/5280 [==============================] - 3s 483us/sample - loss: 0.3938 - val_loss: 0.4037\n",
            "Epoch 70/200\n",
            "5280/5280 [==============================] - 3s 487us/sample - loss: 0.3938 - val_loss: 0.4039\n",
            "Epoch 71/200\n",
            "5280/5280 [==============================] - 3s 492us/sample - loss: 0.3938 - val_loss: 0.4038\n",
            "Epoch 72/200\n",
            "5280/5280 [==============================] - 3s 499us/sample - loss: 0.3938 - val_loss: 0.4037\n",
            "Epoch 73/200\n",
            "5280/5280 [==============================] - 3s 487us/sample - loss: 0.3938 - val_loss: 0.4037\n",
            "Epoch 74/200\n",
            "5280/5280 [==============================] - 3s 494us/sample - loss: 0.3937 - val_loss: 0.4038\n",
            "Epoch 75/200\n",
            "5280/5280 [==============================] - 3s 490us/sample - loss: 0.3938 - val_loss: 0.4037\n",
            "Epoch 76/200\n",
            "5280/5280 [==============================] - 3s 503us/sample - loss: 0.3937 - val_loss: 0.4036\n",
            "Epoch 77/200\n",
            "5280/5280 [==============================] - 3s 502us/sample - loss: 0.3937 - val_loss: 0.4037\n",
            "Epoch 78/200\n",
            "5280/5280 [==============================] - 3s 484us/sample - loss: 0.3937 - val_loss: 0.4036\n",
            "Epoch 79/200\n",
            "5280/5280 [==============================] - 3s 492us/sample - loss: 0.3936 - val_loss: 0.4036\n",
            "Epoch 80/200\n",
            "5280/5280 [==============================] - 3s 490us/sample - loss: 0.3936 - val_loss: 0.4036\n",
            "Epoch 81/200\n",
            "5280/5280 [==============================] - 3s 490us/sample - loss: 0.3936 - val_loss: 0.4037\n",
            "Epoch 82/200\n",
            "5280/5280 [==============================] - 3s 485us/sample - loss: 0.3936 - val_loss: 0.4036\n",
            "Epoch 83/200\n",
            "5280/5280 [==============================] - 3s 490us/sample - loss: 0.3936 - val_loss: 0.4037\n",
            "Epoch 84/200\n",
            "5280/5280 [==============================] - 3s 492us/sample - loss: 0.3936 - val_loss: 0.4037\n",
            "Epoch 85/200\n",
            "5280/5280 [==============================] - 3s 492us/sample - loss: 0.3936 - val_loss: 0.4036\n",
            "Epoch 86/200\n",
            "5280/5280 [==============================] - 3s 490us/sample - loss: 0.3936 - val_loss: 0.4038\n",
            "Epoch 87/200\n",
            "5280/5280 [==============================] - 3s 488us/sample - loss: 0.3936 - val_loss: 0.4036\n",
            "Epoch 88/200\n",
            "5280/5280 [==============================] - 3s 486us/sample - loss: 0.3936 - val_loss: 0.4037\n",
            "Epoch 89/200\n",
            "5280/5280 [==============================] - 3s 498us/sample - loss: 0.3936 - val_loss: 0.4036\n",
            "Epoch 90/200\n",
            "5280/5280 [==============================] - 3s 498us/sample - loss: 0.3936 - val_loss: 0.4036\n",
            "Epoch 91/200\n",
            "5280/5280 [==============================] - 3s 488us/sample - loss: 0.3936 - val_loss: 0.4036\n",
            "Epoch 92/200\n",
            "5280/5280 [==============================] - 3s 486us/sample - loss: 0.3936 - val_loss: 0.4037\n",
            "Epoch 93/200\n",
            "5280/5280 [==============================] - 3s 492us/sample - loss: 0.3935 - val_loss: 0.4035\n",
            "Epoch 94/200\n",
            "5280/5280 [==============================] - 3s 490us/sample - loss: 0.3937 - val_loss: 0.4039\n",
            "Epoch 95/200\n",
            "5280/5280 [==============================] - 3s 493us/sample - loss: 0.3936 - val_loss: 0.4036\n",
            "Epoch 96/200\n",
            "5280/5280 [==============================] - 3s 492us/sample - loss: 0.3935 - val_loss: 0.4036\n",
            "Epoch 97/200\n",
            "5280/5280 [==============================] - 3s 488us/sample - loss: 0.3935 - val_loss: 0.4035\n",
            "Epoch 98/200\n",
            "5280/5280 [==============================] - 3s 497us/sample - loss: 0.3935 - val_loss: 0.4036\n",
            "Epoch 99/200\n",
            "5280/5280 [==============================] - 3s 487us/sample - loss: 0.3935 - val_loss: 0.4035\n",
            "Epoch 100/200\n",
            "5280/5280 [==============================] - 3s 488us/sample - loss: 0.3935 - val_loss: 0.4035\n",
            "Epoch 101/200\n",
            "5280/5280 [==============================] - 3s 489us/sample - loss: 0.3935 - val_loss: 0.4035\n",
            "Epoch 102/200\n",
            "5280/5280 [==============================] - 3s 492us/sample - loss: 0.3935 - val_loss: 0.4037\n",
            "Epoch 103/200\n",
            "5280/5280 [==============================] - 3s 496us/sample - loss: 0.3935 - val_loss: 0.4035\n",
            "Epoch 104/200\n",
            "5280/5280 [==============================] - 3s 497us/sample - loss: 0.3935 - val_loss: 0.4037\n",
            "Epoch 105/200\n",
            "5280/5280 [==============================] - 3s 492us/sample - loss: 0.3935 - val_loss: 0.4035\n",
            "Epoch 106/200\n",
            "5280/5280 [==============================] - 3s 497us/sample - loss: 0.3935 - val_loss: 0.4035\n",
            "Epoch 107/200\n",
            "5280/5280 [==============================] - 3s 492us/sample - loss: 0.3936 - val_loss: 0.4035\n",
            "Epoch 108/200\n",
            "5280/5280 [==============================] - 3s 489us/sample - loss: 0.3935 - val_loss: 0.4035\n",
            "Epoch 109/200\n",
            "5280/5280 [==============================] - 3s 484us/sample - loss: 0.3935 - val_loss: 0.4037\n",
            "Epoch 110/200\n",
            "5280/5280 [==============================] - 3s 496us/sample - loss: 0.3935 - val_loss: 0.4035\n",
            "Epoch 111/200\n",
            "5280/5280 [==============================] - 3s 489us/sample - loss: 0.3935 - val_loss: 0.4035\n",
            "Epoch 112/200\n",
            "5280/5280 [==============================] - 3s 496us/sample - loss: 0.3936 - val_loss: 0.4036\n",
            "Epoch 113/200\n",
            "5280/5280 [==============================] - 3s 493us/sample - loss: 0.3936 - val_loss: 0.4035\n",
            "Epoch 114/200\n",
            "5280/5280 [==============================] - 3s 498us/sample - loss: 0.3935 - val_loss: 0.4035\n",
            "Epoch 115/200\n",
            "5280/5280 [==============================] - 3s 488us/sample - loss: 0.3935 - val_loss: 0.4036\n",
            "Epoch 116/200\n",
            "5280/5280 [==============================] - 3s 490us/sample - loss: 0.3935 - val_loss: 0.4035\n",
            "Epoch 117/200\n",
            "5280/5280 [==============================] - 3s 489us/sample - loss: 0.3935 - val_loss: 0.4036\n",
            "Epoch 118/200\n",
            "5280/5280 [==============================] - 3s 489us/sample - loss: 0.3935 - val_loss: 0.4035\n",
            "Epoch 119/200\n",
            "5280/5280 [==============================] - 3s 500us/sample - loss: 0.3935 - val_loss: 0.4035\n",
            "Epoch 120/200\n",
            "5280/5280 [==============================] - 3s 485us/sample - loss: 0.3935 - val_loss: 0.4035\n",
            "Epoch 121/200\n",
            "5280/5280 [==============================] - 3s 486us/sample - loss: 0.3936 - val_loss: 0.4036\n",
            "Epoch 122/200\n",
            "5280/5280 [==============================] - 3s 481us/sample - loss: 0.3935 - val_loss: 0.4035\n",
            "Epoch 123/200\n",
            "5280/5280 [==============================] - 3s 486us/sample - loss: 0.3935 - val_loss: 0.4035\n",
            "Epoch 124/200\n",
            "5280/5280 [==============================] - 3s 483us/sample - loss: 0.3935 - val_loss: 0.4035\n",
            "Epoch 125/200\n",
            "5280/5280 [==============================] - 3s 489us/sample - loss: 0.3935 - val_loss: 0.4035\n",
            "Epoch 126/200\n",
            "5280/5280 [==============================] - 3s 488us/sample - loss: 0.3935 - val_loss: 0.4035\n",
            "Epoch 127/200\n",
            "5280/5280 [==============================] - 3s 488us/sample - loss: 0.3935 - val_loss: 0.4035\n",
            "Epoch 128/200\n",
            "5280/5280 [==============================] - 3s 487us/sample - loss: 0.3935 - val_loss: 0.4035\n",
            "Epoch 129/200\n",
            "5280/5280 [==============================] - 3s 483us/sample - loss: 0.3935 - val_loss: 0.4035\n",
            "Epoch 130/200\n",
            "5280/5280 [==============================] - 3s 483us/sample - loss: 0.3935 - val_loss: 0.4035\n",
            "Epoch 131/200\n",
            "5280/5280 [==============================] - 3s 491us/sample - loss: 0.3935 - val_loss: 0.4035\n",
            "Epoch 132/200\n",
            "5280/5280 [==============================] - 3s 485us/sample - loss: 0.3935 - val_loss: 0.4035\n",
            "Epoch 133/200\n",
            "5280/5280 [==============================] - 3s 488us/sample - loss: 0.3935 - val_loss: 0.4035\n",
            "Epoch 134/200\n",
            "5280/5280 [==============================] - 3s 487us/sample - loss: 0.3935 - val_loss: 0.4036\n",
            "Epoch 135/200\n",
            "5280/5280 [==============================] - 3s 491us/sample - loss: 0.3935 - val_loss: 0.4035\n",
            "Epoch 136/200\n",
            "5280/5280 [==============================] - 3s 492us/sample - loss: 0.3935 - val_loss: 0.4035\n",
            "Epoch 137/200\n",
            "5280/5280 [==============================] - 3s 491us/sample - loss: 0.3935 - val_loss: 0.4035\n",
            "Epoch 138/200\n",
            "5280/5280 [==============================] - 3s 497us/sample - loss: 0.3935 - val_loss: 0.4035\n",
            "Epoch 139/200\n",
            "5280/5280 [==============================] - 3s 499us/sample - loss: 0.3935 - val_loss: 0.4035\n",
            "Epoch 140/200\n",
            "5280/5280 [==============================] - 3s 501us/sample - loss: 0.3935 - val_loss: 0.4035\n",
            "Epoch 141/200\n",
            "5280/5280 [==============================] - 3s 499us/sample - loss: 0.3935 - val_loss: 0.4035\n",
            "Epoch 142/200\n",
            "5280/5280 [==============================] - 3s 496us/sample - loss: 0.3935 - val_loss: 0.4035\n",
            "Epoch 143/200\n",
            "5280/5280 [==============================] - 3s 491us/sample - loss: 0.3935 - val_loss: 0.4035\n",
            "Epoch 144/200\n",
            "5280/5280 [==============================] - 3s 488us/sample - loss: 0.3935 - val_loss: 0.4035\n",
            "Epoch 145/200\n",
            "5280/5280 [==============================] - 3s 488us/sample - loss: 0.3934 - val_loss: 0.4035\n",
            "Epoch 146/200\n",
            "5280/5280 [==============================] - 3s 487us/sample - loss: 0.3934 - val_loss: 0.4035\n",
            "Epoch 147/200\n",
            "5280/5280 [==============================] - 3s 482us/sample - loss: 0.3935 - val_loss: 0.4035\n",
            "Epoch 148/200\n",
            "5280/5280 [==============================] - 3s 486us/sample - loss: 0.3934 - val_loss: 0.4035\n",
            "Epoch 149/200\n",
            "5280/5280 [==============================] - 3s 489us/sample - loss: 0.3934 - val_loss: 0.4036\n",
            "Epoch 150/200\n",
            "5280/5280 [==============================] - 3s 492us/sample - loss: 0.3934 - val_loss: 0.4036\n",
            "Epoch 151/200\n",
            "5280/5280 [==============================] - 3s 483us/sample - loss: 0.3935 - val_loss: 0.4035\n",
            "Epoch 152/200\n",
            "5280/5280 [==============================] - 3s 485us/sample - loss: 0.3935 - val_loss: 0.4034\n",
            "Epoch 153/200\n",
            "5280/5280 [==============================] - 3s 485us/sample - loss: 0.3935 - val_loss: 0.4038\n",
            "Epoch 154/200\n",
            "5280/5280 [==============================] - 3s 488us/sample - loss: 0.3935 - val_loss: 0.4035\n",
            "Epoch 155/200\n",
            "5280/5280 [==============================] - 3s 488us/sample - loss: 0.3935 - val_loss: 0.4035\n",
            "Epoch 156/200\n",
            "5280/5280 [==============================] - 3s 486us/sample - loss: 0.3934 - val_loss: 0.4035\n",
            "Epoch 157/200\n",
            "5280/5280 [==============================] - 3s 484us/sample - loss: 0.3934 - val_loss: 0.4035\n",
            "Epoch 158/200\n",
            "5280/5280 [==============================] - 3s 487us/sample - loss: 0.3934 - val_loss: 0.4035\n",
            "Epoch 159/200\n",
            "5280/5280 [==============================] - 3s 482us/sample - loss: 0.3934 - val_loss: 0.4035\n",
            "Epoch 160/200\n",
            "5280/5280 [==============================] - 3s 481us/sample - loss: 0.3934 - val_loss: 0.4035\n",
            "Epoch 161/200\n",
            "5280/5280 [==============================] - 3s 481us/sample - loss: 0.3934 - val_loss: 0.4034\n",
            "Epoch 162/200\n",
            "5280/5280 [==============================] - 3s 483us/sample - loss: 0.3934 - val_loss: 0.4035\n",
            "Epoch 163/200\n",
            "5280/5280 [==============================] - 3s 475us/sample - loss: 0.3934 - val_loss: 0.4037\n",
            "Epoch 164/200\n",
            "5280/5280 [==============================] - 3s 479us/sample - loss: 0.3934 - val_loss: 0.4034\n",
            "Epoch 165/200\n",
            "5280/5280 [==============================] - 3s 483us/sample - loss: 0.3935 - val_loss: 0.4035\n",
            "Epoch 166/200\n",
            "5280/5280 [==============================] - 3s 483us/sample - loss: 0.3934 - val_loss: 0.4035\n",
            "Epoch 167/200\n",
            "5280/5280 [==============================] - 3s 480us/sample - loss: 0.3935 - val_loss: 0.4034\n",
            "Epoch 168/200\n",
            "5280/5280 [==============================] - 3s 481us/sample - loss: 0.3934 - val_loss: 0.4034\n",
            "Epoch 169/200\n",
            "5280/5280 [==============================] - 3s 478us/sample - loss: 0.3934 - val_loss: 0.4035\n",
            "Epoch 170/200\n",
            "5280/5280 [==============================] - 3s 483us/sample - loss: 0.3934 - val_loss: 0.4035\n",
            "Epoch 171/200\n",
            "5280/5280 [==============================] - 3s 479us/sample - loss: 0.3934 - val_loss: 0.4035\n",
            "Epoch 172/200\n",
            "5280/5280 [==============================] - 3s 484us/sample - loss: 0.3935 - val_loss: 0.4035\n",
            "Epoch 173/200\n",
            "5280/5280 [==============================] - 3s 481us/sample - loss: 0.3934 - val_loss: 0.4034\n",
            "Epoch 174/200\n",
            "5280/5280 [==============================] - 3s 483us/sample - loss: 0.1411 - val_loss: 0.0036\n",
            "Epoch 175/200\n",
            "5280/5280 [==============================] - 3s 480us/sample - loss: 0.0019 - val_loss: 0.0034\n",
            "Epoch 176/200\n",
            "5280/5280 [==============================] - 3s 486us/sample - loss: 0.0014 - val_loss: 0.0030\n",
            "Epoch 177/200\n",
            "5280/5280 [==============================] - 3s 479us/sample - loss: 0.0011 - val_loss: 0.0012\n",
            "Epoch 178/200\n",
            "5280/5280 [==============================] - 3s 486us/sample - loss: 8.6835e-04 - val_loss: 0.0012\n",
            "Epoch 179/200\n",
            "5280/5280 [==============================] - 3s 479us/sample - loss: 7.7035e-04 - val_loss: 8.0336e-04\n",
            "Epoch 180/200\n",
            "5280/5280 [==============================] - 3s 480us/sample - loss: 6.1610e-04 - val_loss: 7.4521e-04\n",
            "Epoch 181/200\n",
            "5280/5280 [==============================] - 3s 476us/sample - loss: 5.3009e-04 - val_loss: 9.7257e-04\n",
            "Epoch 182/200\n",
            "5280/5280 [==============================] - 3s 483us/sample - loss: 4.7917e-04 - val_loss: 4.6766e-04\n",
            "Epoch 183/200\n",
            "5280/5280 [==============================] - 3s 485us/sample - loss: 4.2679e-04 - val_loss: 6.0747e-04\n",
            "Epoch 184/200\n",
            "5280/5280 [==============================] - 3s 484us/sample - loss: 3.5786e-04 - val_loss: 4.8224e-04\n",
            "Epoch 185/200\n",
            "5280/5280 [==============================] - 3s 480us/sample - loss: 3.2508e-04 - val_loss: 3.5353e-04\n",
            "Epoch 186/200\n",
            "5280/5280 [==============================] - 3s 479us/sample - loss: 2.9732e-04 - val_loss: 4.1394e-04\n",
            "Epoch 187/200\n",
            "5280/5280 [==============================] - 3s 482us/sample - loss: 3.0306e-04 - val_loss: 2.8496e-04\n",
            "Epoch 188/200\n",
            "5280/5280 [==============================] - 3s 478us/sample - loss: 2.2228e-04 - val_loss: 2.3043e-04\n",
            "Epoch 189/200\n",
            "5280/5280 [==============================] - 3s 481us/sample - loss: 2.3166e-04 - val_loss: 4.1424e-04\n",
            "Epoch 190/200\n",
            "5280/5280 [==============================] - 3s 484us/sample - loss: 2.0630e-04 - val_loss: 2.4134e-04\n",
            "Epoch 191/200\n",
            "5280/5280 [==============================] - 3s 480us/sample - loss: 1.7152e-04 - val_loss: 1.9851e-04\n",
            "Epoch 192/200\n",
            "5280/5280 [==============================] - 3s 478us/sample - loss: 1.9054e-04 - val_loss: 2.5769e-04\n",
            "Epoch 193/200\n",
            "5280/5280 [==============================] - 3s 476us/sample - loss: 1.7418e-04 - val_loss: 2.2151e-04\n",
            "Epoch 194/200\n",
            "5280/5280 [==============================] - 3s 483us/sample - loss: 1.3071e-04 - val_loss: 1.6237e-04\n",
            "Epoch 195/200\n",
            "5280/5280 [==============================] - 3s 490us/sample - loss: 1.5353e-04 - val_loss: 1.2555e-04\n",
            "Epoch 196/200\n",
            "5280/5280 [==============================] - 3s 497us/sample - loss: 1.2795e-04 - val_loss: 1.1217e-04\n",
            "Epoch 197/200\n",
            "5280/5280 [==============================] - 3s 483us/sample - loss: 1.0325e-04 - val_loss: 1.3712e-04\n",
            "Epoch 198/200\n",
            "5280/5280 [==============================] - 3s 477us/sample - loss: 1.0564e-04 - val_loss: 2.1796e-04\n",
            "Epoch 199/200\n",
            "5280/5280 [==============================] - 3s 478us/sample - loss: 1.4463e-04 - val_loss: 1.7202e-04\n",
            "Epoch 200/200\n",
            "5280/5280 [==============================] - 3s 480us/sample - loss: 1.1761e-04 - val_loss: 1.6411e-04\n"
          ],
          "name": "stdout"
        }
      ]
    },
    {
      "cell_type": "code",
      "metadata": {
        "id": "RuUetjz0i5xl",
        "colab_type": "code",
        "colab": {}
      },
      "source": [
        "#saving weights\n",
        "model.save('/content/gdrive/My Drive/hackathon/lstm.h5')"
      ],
      "execution_count": null,
      "outputs": []
    },
    {
      "cell_type": "markdown",
      "metadata": {
        "id": "NKj39sb-Ibp6",
        "colab_type": "text"
      },
      "source": [
        "# Finetuning Phase\n"
      ]
    },
    {
      "cell_type": "code",
      "metadata": {
        "id": "9nw5RvkLjz9u",
        "colab_type": "code",
        "colab": {
          "base_uri": "https://localhost:8080/",
          "height": 330
        },
        "outputId": "b77e633f-3642-4110-a2e6-a19360c11b3c"
      },
      "source": [
        "def regloss(y_true,y_pred):\n",
        "    mask = y_true[...,1]\n",
        "    y_true = y_true[...,0]\n",
        "    y_pred = y_pred[...,0]\n",
        "    loss = K.sum(((y_true-y_pred)**2)*mask,axis=-1)\n",
        "    return loss\n",
        "#model for finetuning(remove top dense layer and add a dense layer of one node)\n",
        "def build_final_model(filename):\n",
        "    model = load_model(filename,custom_objects={'regloss':regloss})\n",
        "    dense1 = Dense(32,activation='relu',kernel_initializer='glorot_uniform')(model.layers[-5].output)\n",
        "    dense2 = Dense(1,activation='relu',kernel_initializer='glorot_uniform')(dense1)\n",
        "    model = Model(model.input,dense2)\n",
        "    return model\n",
        "model = build_final_model('/content/gdrive/My Drive/hackathon/lstm.h5')\n",
        "model.summary()"
      ],
      "execution_count": null,
      "outputs": [
        {
          "output_type": "stream",
          "text": [
            "Model: \"model_3\"\n",
            "_________________________________________________________________\n",
            "Layer (type)                 Output Shape              Param #   \n",
            "=================================================================\n",
            "input_4 (InputLayer)         [(None, None, 2)]         0         \n",
            "_________________________________________________________________\n",
            "bidirectional_6 (Bidirection (None, None, 128)         34304     \n",
            "_________________________________________________________________\n",
            "bidirectional_7 (Bidirection (None, 128)               98816     \n",
            "_________________________________________________________________\n",
            "dense_6 (Dense)              (None, 32)                4128      \n",
            "_________________________________________________________________\n",
            "dense_7 (Dense)              (None, 1)                 33        \n",
            "=================================================================\n",
            "Total params: 137,281\n",
            "Trainable params: 137,281\n",
            "Non-trainable params: 0\n",
            "_________________________________________________________________\n"
          ],
          "name": "stdout"
        }
      ]
    },
    {
      "cell_type": "code",
      "metadata": {
        "id": "TYXMnMMLR-w-",
        "colab_type": "code",
        "colab": {}
      },
      "source": [
        "#directories\n",
        "test_dir = '/content/gdrive/My Drive/hackathon/Test_dataset.xlsx'\n",
        "#loading data\n",
        "test_data =pd.read_excel(test_dir,'Put-Call_TS')\n",
        "#changing names\n",
        "test_data=test_data.rename(columns={'Put-Call Ratio':'aug10','Unnamed: 2':'aug11','Unnamed: 3':'aug12','Unnamed: 4':'aug13','Unnamed: 5':'aug14','Unnamed: 6':'aug15'})\n",
        "#dropping first row(which is nothing but date and time)\n",
        "test_data=test_data.drop([0],axis=0)\n",
        "#show top 5 rows of training dataframe\n",
        "test_data.head()\n",
        "test_data.fillna(0,inplace=True)"
      ],
      "execution_count": null,
      "outputs": []
    },
    {
      "cell_type": "code",
      "metadata": {
        "id": "a4_41WFLBOQZ",
        "colab_type": "code",
        "colab": {}
      },
      "source": [
        "#arrays of (5,2) for timeseries prediction\n",
        "X = []\n",
        "Y = []\n",
        "for i in range(test_data.shape[0]):\n",
        "    #considering 5 at a time\n",
        "    x = test_data.iloc[i,1:6].values.astype('float32')\n",
        "    indicies = np.where(x==0)\n",
        "    mask = np.zeros((5,1))\n",
        "    mask[indicies]=1\n",
        "    x = np.concatenate((np.expand_dims(x,axis = -1),mask),axis=-1)\n",
        "    if test_data.iloc[i,6]!=0:\n",
        "        X.append(x)\n",
        "        Y.append(test_data.iloc[i,6].astype('float32'))\n",
        "X = np.asarray(X)\n",
        "Y = np.asarray(Y)"
      ],
      "execution_count": null,
      "outputs": []
    },
    {
      "cell_type": "code",
      "metadata": {
        "id": "ZBcT83E3oMw0",
        "colab_type": "code",
        "colab": {
          "base_uri": "https://localhost:8080/",
          "height": 34
        },
        "outputId": "e332836c-f071-47bf-dbc7-8654d4024cef"
      },
      "source": [
        "print(X.shape,\n",
        "Y.shape)"
      ],
      "execution_count": null,
      "outputs": [
        {
          "output_type": "stream",
          "text": [
            "(3092, 5, 2) (3092,)\n"
          ],
          "name": "stdout"
        }
      ]
    },
    {
      "cell_type": "code",
      "metadata": {
        "id": "J3mztW4-oyoi",
        "colab_type": "code",
        "colab": {
          "base_uri": "https://localhost:8080/",
          "height": 1000
        },
        "outputId": "068b263f-f43d-4ed1-f678-b2eb00c17a09"
      },
      "source": [
        "#splitting\n",
        "X_val = X[:200]\n",
        "Y_val = Y[:200]\n",
        "X_train = X[200:]\n",
        "Y_train = Y[200:]\n",
        "#building model\n",
        "model = build_final_model('/content/gdrive/My Drive/hackathon/lstm.h5')\n",
        "for layer in model.layers:\n",
        "    layer.trainable = True\n",
        "#callbacks\n",
        "mcp_save = ModelCheckpoint('/content/gdrive/My Drive/hackathon/final_tuned.h5', save_best_only=True, monitor='val_loss', mode='min')\n",
        "earlyStopping = EarlyStopping(monitor='val_loss', patience=15, verbose=0, mode='min')\n",
        "reduce_lr_loss = ReduceLROnPlateau(monitor='val_loss', factor=0.1, patience=7, verbose=1, epsilon=1e-4, mode='min')\n",
        "#compile\n",
        "optimizer = Adam(lr=1e-4)\n",
        "model.compile(optimizer=optimizer, loss='mse')\n",
        "history = model.fit(X_train,Y_train,batch_size=32,epochs=100,validation_data=(X_val,Y_val),callbacks=[mcp_save,reduce_lr_loss,earlyStopping])"
      ],
      "execution_count": null,
      "outputs": [
        {
          "output_type": "stream",
          "text": [
            "WARNING:tensorflow:`epsilon` argument is deprecated and will be removed, use `min_delta` instead.\n",
            "Train on 2892 samples, validate on 200 samples\n",
            "Epoch 1/100\n",
            "2892/2892 [==============================] - 7s 3ms/sample - loss: 0.2312 - val_loss: 0.0093\n",
            "Epoch 2/100\n",
            "2892/2892 [==============================] - 2s 618us/sample - loss: 0.0057 - val_loss: 0.0022\n",
            "Epoch 3/100\n",
            "2892/2892 [==============================] - 2s 602us/sample - loss: 0.0012 - val_loss: 3.6220e-04\n",
            "Epoch 4/100\n",
            "2892/2892 [==============================] - 2s 622us/sample - loss: 3.4130e-04 - val_loss: 2.7747e-04\n",
            "Epoch 5/100\n",
            "2892/2892 [==============================] - 2s 606us/sample - loss: 2.8534e-04 - val_loss: 2.4427e-04\n",
            "Epoch 6/100\n",
            "2892/2892 [==============================] - 2s 622us/sample - loss: 2.4627e-04 - val_loss: 2.1358e-04\n",
            "Epoch 7/100\n",
            "2892/2892 [==============================] - 2s 628us/sample - loss: 2.1138e-04 - val_loss: 2.0221e-04\n",
            "Epoch 8/100\n",
            "2892/2892 [==============================] - 2s 612us/sample - loss: 1.8311e-04 - val_loss: 1.8003e-04\n",
            "Epoch 9/100\n",
            "2892/2892 [==============================] - 2s 613us/sample - loss: 1.5828e-04 - val_loss: 1.7147e-04\n",
            "Epoch 10/100\n",
            "2892/2892 [==============================] - 2s 626us/sample - loss: 1.4095e-04 - val_loss: 1.5307e-04\n",
            "Epoch 11/100\n",
            "2892/2892 [==============================] - 2s 633us/sample - loss: 1.2435e-04 - val_loss: 1.4192e-04\n",
            "Epoch 12/100\n",
            "2892/2892 [==============================] - 2s 619us/sample - loss: 1.1491e-04 - val_loss: 1.3888e-04\n",
            "Epoch 13/100\n",
            "2892/2892 [==============================] - 2s 586us/sample - loss: 1.0232e-04 - val_loss: 1.4190e-04\n",
            "Epoch 14/100\n",
            "2892/2892 [==============================] - 2s 623us/sample - loss: 9.3703e-05 - val_loss: 1.3321e-04\n",
            "Epoch 15/100\n",
            "2892/2892 [==============================] - 2s 596us/sample - loss: 8.7469e-05 - val_loss: 1.3374e-04\n",
            "Epoch 16/100\n",
            "2892/2892 [==============================] - 2s 586us/sample - loss: 8.0945e-05 - val_loss: 1.4160e-04\n",
            "Epoch 17/100\n",
            "2892/2892 [==============================] - 2s 578us/sample - loss: 7.7818e-05 - val_loss: 1.3816e-04\n",
            "Epoch 18/100\n",
            "2880/2892 [============================>.] - ETA: 0s - loss: 7.4689e-05\n",
            "Epoch 00018: ReduceLROnPlateau reducing learning rate to 9.999999747378752e-06.\n",
            "2892/2892 [==============================] - 2s 585us/sample - loss: 7.4648e-05 - val_loss: 1.4730e-04\n",
            "Epoch 19/100\n",
            "2892/2892 [==============================] - 2s 603us/sample - loss: 6.8416e-05 - val_loss: 1.4154e-04\n",
            "Epoch 20/100\n",
            "2892/2892 [==============================] - 2s 597us/sample - loss: 6.7614e-05 - val_loss: 1.4010e-04\n",
            "Epoch 21/100\n",
            "2892/2892 [==============================] - 2s 599us/sample - loss: 6.7504e-05 - val_loss: 1.4022e-04\n",
            "Epoch 22/100\n",
            "2892/2892 [==============================] - 2s 593us/sample - loss: 6.6593e-05 - val_loss: 1.3991e-04\n",
            "Epoch 23/100\n",
            "2892/2892 [==============================] - 2s 582us/sample - loss: 6.6161e-05 - val_loss: 1.4009e-04\n",
            "Epoch 24/100\n",
            "2892/2892 [==============================] - 2s 589us/sample - loss: 6.6164e-05 - val_loss: 1.4053e-04\n",
            "Epoch 25/100\n",
            "2880/2892 [============================>.] - ETA: 0s - loss: 6.5532e-05\n",
            "Epoch 00025: ReduceLROnPlateau reducing learning rate to 9.999999747378752e-07.\n",
            "2892/2892 [==============================] - 2s 597us/sample - loss: 6.5391e-05 - val_loss: 1.4064e-04\n",
            "Epoch 26/100\n",
            "2892/2892 [==============================] - 2s 582us/sample - loss: 6.4832e-05 - val_loss: 1.4047e-04\n",
            "Epoch 27/100\n",
            "2892/2892 [==============================] - 2s 591us/sample - loss: 6.4717e-05 - val_loss: 1.4054e-04\n",
            "Epoch 28/100\n",
            "2892/2892 [==============================] - 2s 597us/sample - loss: 6.4702e-05 - val_loss: 1.4051e-04\n",
            "Epoch 29/100\n",
            "2892/2892 [==============================] - 2s 599us/sample - loss: 6.4582e-05 - val_loss: 1.4053e-04\n"
          ],
          "name": "stdout"
        }
      ]
    },
    {
      "cell_type": "code",
      "metadata": {
        "id": "cE33oRzfqYHf",
        "colab_type": "code",
        "colab": {}
      },
      "source": [
        "model = load_model('/content/gdrive/My Drive/hackathon/final_tuned.h5')"
      ],
      "execution_count": null,
      "outputs": []
    },
    {
      "cell_type": "code",
      "metadata": {
        "id": "g6TYlm4nvVna",
        "colab_type": "code",
        "colab": {
          "base_uri": "https://localhost:8080/",
          "height": 72
        },
        "outputId": "37506a7f-fa68-418e-db1c-addb15c8a4d5"
      },
      "source": [
        "#evaluate\n",
        "model.evaluate(X_val,Y_val)"
      ],
      "execution_count": null,
      "outputs": [
        {
          "output_type": "stream",
          "text": [
            "\r200/1 [================================================================================================================================================================================================================================================================================================================================================================================================================================================================================================================================================================================================================================================================================================================================================================================================================================================================================================================================================================================================================================================================================================================================================================================================================================================================================================================================================================================================================================================================================================================================================================================================================================================================================================================================================================================================================================================================================================================================================================================================================================================================================================================================================================================================================================================================================================================================================================================================================================================================================================================================================================================================================================================================================================================================================================================================================================================================================================================================================================================================================================================================================================================================================================================================================================================================================================================================================================================================================================================================================================================================================================================================================================================================================================================================================================================================================================================================================================================================================================================================================================================================================================================================================================================================================================================================================================================================================================================================================================================================================================================================================================================================================================================================================================================================================================================================================================================================================================================================================================================================================================================================================================================================================================================================================================================================================================================================================================================================================================================================================================================================================================================================================================================================================================================================================================================================================================================================================================================================================================================================================================================================================================================================================================================================================================================] - 1s 3ms/sample - loss: 8.5679e-05\n"
          ],
          "name": "stdout"
        },
        {
          "output_type": "execute_result",
          "data": {
            "text/plain": [
              "0.00013321289326995612"
            ]
          },
          "metadata": {
            "tags": []
          },
          "execution_count": 42
        }
      ]
    },
    {
      "cell_type": "code",
      "metadata": {
        "id": "5SaksDfI1W_B",
        "colab_type": "code",
        "colab": {
          "base_uri": "https://localhost:8080/",
          "height": 265
        },
        "outputId": "ffbc6679-762c-49b4-97ef-41896d16200f"
      },
      "source": [
        "#graph\n",
        "Y_pred = model.predict(X_val)\n",
        "plt.plot(Y_pred,Y_val)\n",
        "plt.savefig('/content/gdrive/My Drive/hackathon/rnn_result.jpeg')"
      ],
      "execution_count": null,
      "outputs": [
        {
          "output_type": "display_data",
          "data": {
            "image/png": "[encoded data removed]",
            "text/plain": [
              "<Figure size 432x288 with 1 Axes>"
            ]
          },
          "metadata": {
            "tags": [],
            "needs_background": "light"
          }
        }
      ]
    },
    {
      "cell_type": "code",
      "metadata": {
        "id": "J5Rdh6Ju19Ke",
        "colab_type": "code",
        "colab": {
          "base_uri": "https://localhost:8080/",
          "height": 1000
        },
        "outputId": "9265ffa2-41c9-47aa-8155-8e8e6a9b6b93"
      },
      "source": [
        "for y_pred,y_true in zip(Y_pred,Y_val):\n",
        "    print(y_pred,y_true)"
      ],
      "execution_count": null,
      "outputs": [
        {
          "output_type": "stream",
          "text": [
            "[0.88862187] 0.8983683\n",
            "[1.0201362] 1.0292577\n",
            "[1.1841912] 1.1819619\n",
            "[1.5373591] 1.5310003\n",
            "[1.708884] 1.7055193\n",
            "[1.7901866] 1.792779\n",
            "[1.8382126] 1.8364087\n",
            "[1.3350925] 1.3346661\n",
            "[1.3350925] 1.3346661\n",
            "[1.4932703] 1.4873705\n",
            "[1.4029158] 1.4001108\n",
            "[1.0645066] 1.0728874\n",
            "[0.6999257] 0.70203424\n",
            "[1.7635206] 1.7055193\n",
            "[1.5548077] 1.4873705\n",
            "[0.5261662] 0.50570023\n",
            "[0.6402088] 0.6365896\n",
            "[1.5373591] 1.5310003\n",
            "[0.544657] 0.5275151\n",
            "[1.3803358] 1.378296\n",
            "[1.5816188] 1.57463\n",
            "[1.5363489] 1.5528151\n",
            "[1.2908319] 1.3128513\n",
            "[1.9134648] 1.9454832\n",
            "[1.853402] 1.8800385\n",
            "[1.7506552] 1.770964\n",
            "[0.6784952] 0.70203424\n",
            "[0.80482435] 0.8329236\n",
            "[0.6402088] 0.6365896\n",
            "[0.62069315] 0.61477464\n",
            "[1.9592378] 1.9672982\n",
            "[1.6906005] 1.6837045\n",
            "[1.4704005] 1.4655555\n",
            "[1.9394487] 1.9454832\n",
            "[0.6599219] 0.65840447\n",
            "[1.6473206] 1.6400747\n",
            "[1.6906005] 1.6837045\n",
            "[1.7546415] 1.7491492\n",
            "[0.93223125] 0.94199806\n",
            "[1.5816188] 1.57463\n",
            "[0.71925545] 0.7238491\n",
            "[0.5955266] 0.59295976\n",
            "[1.6244361] 1.6182598\n",
            "[1.7120692] 1.7055193\n",
            "[1.0201362] 1.0292577\n",
            "[0.7821337] 0.7892938\n",
            "[0.9980861] 1.0074427\n",
            "[1.4927875] 1.4873705\n",
            "[1.4254577] 1.4219258\n",
            "[1.6906005] 1.6837045\n",
            "[1.8587571] 1.8582237\n",
            "[0.44140273] 0.4620704\n",
            "[1.4704005] 1.4655555\n",
            "[0.80311745] 0.8111087\n",
            "[0.50788623] 0.48388532\n",
            "[1.2897872] 1.2910364\n",
            "[1.7546415] 1.7491492\n",
            "[0.9103605] 0.9201832\n",
            "[1.1091881] 1.1165172\n",
            "[0.6599219] 0.65840447\n",
            "[1.4479551] 1.4437406\n",
            "[1.0868124] 1.0947024\n",
            "[1.6473206] 1.6400747\n",
            "[0.7613177] 0.76747894\n",
            "[0.8670222] 0.8765534\n",
            "[0.8670222] 0.8765534\n",
            "[0.50788623] 0.48388532\n",
            "[0.9103605] 0.9201832\n",
            "[0.8670222] 0.8765534\n",
            "[0.7613177] 0.76747894\n",
            "[0.7821337] 0.7892938\n",
            "[1.199238] 1.2037768\n",
            "[1.8382126] 1.8364087\n",
            "[0.6013773] 0.59295976\n",
            "[1.4927875] 1.4873705\n",
            "[1.4254577] 1.4219258\n",
            "[1.7120692] 1.7055193\n",
            "[0.7613177] 0.76747894\n",
            "[1.1091881] 1.1165172\n",
            "[1.3350925] 1.3346661\n",
            "[1.0868124] 1.0947024\n",
            "[0.7202089] 0.7238491\n",
            "[1.5595306] 1.5528151\n",
            "[1.4254577] 1.4219258\n",
            "[1.3124436] 1.3128513\n",
            "[1.2671304] 1.2692215\n",
            "[0.5201761] 0.5711449\n",
            "[1.4541646] 1.4655555\n",
            "[0.82426417] 0.8329236\n",
            "[1.7546415] 1.7491492\n",
            "[0.9542273] 0.96381295\n",
            "[0.62069315] 0.61477464\n",
            "[0.5261662] 0.50570023\n",
            "[1.9394487] 1.9454832\n",
            "[1.1316265] 1.1383321\n",
            "[1.3350925] 1.3346661\n",
            "[1.3803358] 1.378296\n",
            "[1.6473206] 1.6400747\n",
            "[1.0645066] 1.0728874\n",
            "[1.6690161] 1.6618896\n",
            "[1.3124436] 1.3128513\n",
            "[0.93223125] 0.94199806\n",
            "[1.1766591] 1.1819619\n",
            "[1.899405] 1.9018534\n",
            "[0.9542273] 0.96381295\n",
            "[0.6798287] 0.68021935\n",
            "[0.7613177] 0.76747894\n",
            "[0.93223125] 0.94199806\n",
            "[1.7757367] 1.770964\n",
            "[1.5595306] 1.5528151\n",
            "[1.7546415] 1.7491492\n",
            "[1.0645066] 1.0728874\n",
            "[1.4029158] 1.4001108\n",
            "[0.82426417] 0.8329236\n",
            "[1.199238] 1.2037768\n",
            "[0.9980861] 1.0074427\n",
            "[0.5633571] 0.54933\n",
            "[1.1316265] 1.1383321\n",
            "[1.2897872] 1.2910364\n",
            "[0.9980861] 1.0074427\n",
            "[1.7120692] 1.7055193\n",
            "[0.6599219] 0.65840447\n",
            "[1.4254577] 1.4219258\n",
            "[1.5373591] 1.5310003\n",
            "[1.8175255] 1.8145938\n",
            "[0.80311745] 0.8111087\n",
            "[1.2671304] 1.2692215\n",
            "[1.879155] 1.8800385\n",
            "[0.9103605] 0.9201832\n",
            "[1.0201362] 1.0292577\n",
            "[1.3803358] 1.378296\n",
            "[1.0201362] 1.0292577\n",
            "[0.5822645] 0.5711449\n",
            "[0.6402088] 0.6365896\n",
            "[0.9542273] 0.96381295\n",
            "[1.5816188] 1.57463\n",
            "[0.7821337] 0.7892938\n",
            "[0.5633571] 0.54933\n",
            "[1.6906005] 1.6837045\n",
            "[1.0868124] 1.0947024\n",
            "[1.6690161] 1.6618896\n",
            "[1.0422789] 1.0510726\n",
            "[1.6473206] 1.6400747\n",
            "[0.48981842] 0.4620704\n",
            "[1.9195037] 1.9236683\n",
            "[1.899405] 1.9018534\n",
            "[1.7966992] 1.792779\n",
            "[1.5595306] 1.5528151\n",
            "[0.50788623] 0.48388532\n",
            "[1.2671304] 1.2692215\n",
            "[1.1091881] 1.1165172\n",
            "[0.97613573] 0.9856279\n",
            "[1.3803358] 1.378296\n",
            "[0.6999257] 0.70203424\n",
            "[1.2671304] 1.2692215\n",
            "[1.6255192] 1.6182598\n",
            "[0.544657] 0.5275151\n",
            "[0.9980861] 1.0074427\n",
            "[1.5595306] 1.5528151\n",
            "[1.1316265] 1.1383321\n",
            "[1.6690161] 1.6618896\n",
            "[1.9592378] 1.9672982\n",
            "[1.708884] 1.7055193\n",
            "[1.4725642] 1.4655555\n",
            "[1.4283924] 1.4219258\n",
            "[1.8875468] 1.9018534\n",
            "[1.0693928] 1.0728874\n",
            "[0.891463] 0.8983683\n",
            "[1.4283924] 1.4219258\n",
            "[1.494535] 1.4873705\n",
            "[0.6982938] 0.70203424\n",
            "[0.5955266] 0.59295976\n",
            "[0.57530195] 0.5711449\n",
            "[0.57530195] 0.5711449\n",
            "[0.97996926] 0.9856279\n",
            "[0.6982938] 0.70203424\n",
            "[0.5156821] 0.50570023\n",
            "[1.7901866] 1.792779\n",
            "[1.2494668] 1.2474066\n",
            "[1.3616412] 1.3564811\n",
            "[0.57530195] 0.5711449\n",
            "[1.0469763] 1.0510726\n",
            "[0.78294736] 0.7892938\n",
            "[1.3839495] 1.378296\n",
            "[1.7901866] 1.792779\n",
            "[0.8260279] 0.8329236\n",
            "[1.7702463] 1.770964\n",
            "[0.76158726] 0.76747894\n",
            "[1.0645066] 1.0728874\n",
            "[1.5595306] 1.5528151\n",
            "[1.2671304] 1.2692215\n",
            "[1.2671304] 1.2692215\n",
            "[0.6402088] 0.6365896\n",
            "[0.80311745] 0.8111087\n",
            "[0.6999257] 0.70203424\n",
            "[1.7120692] 1.7055193\n",
            "[0.80311745] 0.8111087\n",
            "[1.199238] 1.2037768\n",
            "[1.6906005] 1.6837045\n",
            "[1.5816188] 1.57463\n"
          ],
          "name": "stdout"
        }
      ]
    },
    {
      "cell_type": "code",
      "metadata": {
        "id": "00q00YsB2oh6",
        "colab_type": "code",
        "colab": {
          "base_uri": "https://localhost:8080/",
          "height": 543
        },
        "outputId": "4e42e886-bace-4fcc-9509-84622c0a3320"
      },
      "source": [
        "#errors and error percentage\n",
        "errors = []\n",
        "errors_per = []\n",
        "for y_pred,y_true in zip(Y_pred,Y_val):\n",
        "    if y_true != 0:\n",
        "        errors.append(abs(y_pred-y_true))\n",
        "        errors_per.append((abs(y_pred-y_true)/y_true)*100)\n",
        "nums = [i for i in range(len(errors))]\n",
        "#errors plot\n",
        "plt.plot(nums,errors)\n",
        "plt.xlabel('datapoint')\n",
        "plt.ylabel('error')\n",
        "plt.show()\n",
        "\n",
        "#errors_percentage plot\n",
        "plt.plot(nums,errors_per)\n",
        "plt.xlabel('datapoint')\n",
        "plt.ylabel('error_per')\n",
        "plt.show()"
      ],
      "execution_count": null,
      "outputs": [
        {
          "output_type": "display_data",
          "data": {
            "image/png": "[encoded data removed]",
            "text/plain": [
              "<Figure size 432x288 with 1 Axes>"
            ]
          },
          "metadata": {
            "tags": [],
            "needs_background": "light"
          }
        },
        {
          "output_type": "display_data",
          "data": {
            "image/png": "[encoded data removed]",
            "text/plain": [
              "<Figure size 432x288 with 1 Axes>"
            ]
          },
          "metadata": {
            "tags": [],
            "needs_background": "light"
          }
        }
      ]
    },
    {
      "cell_type": "code",
      "metadata": {
        "id": "1AFE2OI7RaBv",
        "colab_type": "code",
        "colab": {
          "base_uri": "https://localhost:8080/",
          "height": 52
        },
        "outputId": "e2306e82-5f99-4b8f-f33e-4d224625ed21"
      },
      "source": [
        "print('max erros : {}'.format(max(errors)))\n",
        "print('max percentage error : {}'.format(max(errors_per)))"
      ],
      "execution_count": null,
      "outputs": [
        {
          "output_type": "stream",
          "text": [
            "max erros : [0.06743717]\n",
            "max percentage error : [8.9239645]\n"
          ],
          "name": "stdout"
        }
      ]
    },
    {
      "cell_type": "code",
      "metadata": {
        "id": "gZbocpjfTC0h",
        "colab_type": "code",
        "colab": {}
      },
      "source": [
        "arg_er = np.argmax(errors)\n",
        "arg_er_per = np.argmax(errors_per)"
      ],
      "execution_count": null,
      "outputs": []
    },
    {
      "cell_type": "code",
      "metadata": {
        "id": "xKf0H_qoUqJg",
        "colab_type": "code",
        "colab": {
          "base_uri": "https://localhost:8080/",
          "height": 34
        },
        "outputId": "8211536f-68cf-4cb8-d6e5-64fda5375ca6"
      },
      "source": [
        "errors[165]"
      ],
      "execution_count": null,
      "outputs": [
        {
          "output_type": "execute_result",
          "data": {
            "text/plain": [
              "array([0.01430666], dtype=float32)"
            ]
          },
          "metadata": {
            "tags": []
          },
          "execution_count": 48
        }
      ]
    },
    {
      "cell_type": "code",
      "metadata": {
        "id": "nXK9qITOJCCY",
        "colab_type": "code",
        "colab": {}
      },
      "source": [
        "model = load_model('/content/gdrive/My Drive/hackathon/final_tuned.h5')\n",
        "#arrays of (5,2) for timeseries prediction\n",
        "X_test = []\n",
        "for i in range(test_data.shape[0]):\n",
        "    #considering 5 at a time\n",
        "    x = test_data.iloc[i,2:7].values.astype('float32')\n",
        "    indicies = np.where(x==0)\n",
        "    mask = np.zeros((5,1))\n",
        "    mask[indicies]=1\n",
        "    x = np.concatenate((np.expand_dims(x,axis = -1),mask),axis=-1)\n",
        "    X_test.append(x)\n",
        "X_test = np.asarray(X_test)\n"
      ],
      "execution_count": null,
      "outputs": []
    },
    {
      "cell_type": "code",
      "metadata": {
        "id": "ViXHRqDVWD4F",
        "colab_type": "code",
        "colab": {
          "base_uri": "https://localhost:8080/",
          "height": 34
        },
        "outputId": "dfe2785f-1549-4288-9f8e-8bc8fb08dc6f"
      },
      "source": [
        "X_test.shape"
      ],
      "execution_count": null,
      "outputs": [
        {
          "output_type": "execute_result",
          "data": {
            "text/plain": [
              "(3331, 5, 2)"
            ]
          },
          "metadata": {
            "tags": []
          },
          "execution_count": 57
        }
      ]
    },
    {
      "cell_type": "code",
      "metadata": {
        "id": "SN324P6UWGbJ",
        "colab_type": "code",
        "colab": {}
      },
      "source": [
        "Y_pred = model.predict(X_test)"
      ],
      "execution_count": null,
      "outputs": []
    },
    {
      "cell_type": "code",
      "metadata": {
        "id": "SrHYYJMsWRHa",
        "colab_type": "code",
        "colab": {
          "base_uri": "https://localhost:8080/",
          "height": 241
        },
        "outputId": "fecdd266-207f-4660-d056-b2bf3fa0ff51"
      },
      "source": [
        "#directories\n",
        "test_dir = '/content/gdrive/My Drive/hackathon/Test_dataset.xlsx'\n",
        "#loading data\n",
        "test_data =pd.read_excel(test_dir)\n",
        "\n",
        "#show top 5 rows of training dataframe\n",
        "test_data.head()"
      ],
      "execution_count": null,
      "outputs": [
        {
          "output_type": "execute_result",
          "data": {
            "text/html": [
              "<div>\n",
              "<style scoped>\n",
              "    .dataframe tbody tr th:only-of-type {\n",
              "        vertical-align: middle;\n",
              "    }\n",
              "\n",
              "    .dataframe tbody tr th {\n",
              "        vertical-align: top;\n",
              "    }\n",
              "\n",
              "    .dataframe thead th {\n",
              "        text-align: right;\n",
              "    }\n",
              "</style>\n",
              "<table border=\"1\" class=\"dataframe\">\n",
              "  <thead>\n",
              "    <tr style=\"text-align: right;\">\n",
              "      <th></th>\n",
              "      <th>Stock Index</th>\n",
              "      <th>Index</th>\n",
              "      <th>Industry</th>\n",
              "      <th>VWAP</th>\n",
              "      <th>General Index</th>\n",
              "      <th>NAV</th>\n",
              "      <th>P/E Ratio</th>\n",
              "      <th>Volumes Traded</th>\n",
              "      <th>Inventory Turnover</th>\n",
              "      <th>Covid Impact (Beta)</th>\n",
              "      <th>Tracking Error</th>\n",
              "      <th>Dollar Exchange Rate</th>\n",
              "      <th>Put-Call Ratio</th>\n",
              "      <th>P/B Ratio</th>\n",
              "    </tr>\n",
              "  </thead>\n",
              "  <tbody>\n",
              "    <tr>\n",
              "      <th>0</th>\n",
              "      <td>AC3235</td>\n",
              "      <td>NSE</td>\n",
              "      <td>Materials</td>\n",
              "      <td>53.30</td>\n",
              "      <td>11270.15</td>\n",
              "      <td>44.59</td>\n",
              "      <td>185.09</td>\n",
              "      <td>12067855.0</td>\n",
              "      <td>2.78</td>\n",
              "      <td>0.03</td>\n",
              "      <td>0.0330</td>\n",
              "      <td>74.9</td>\n",
              "      <td>0.80</td>\n",
              "      <td>4.66</td>\n",
              "    </tr>\n",
              "    <tr>\n",
              "      <th>1</th>\n",
              "      <td>AC3236</td>\n",
              "      <td>JSE</td>\n",
              "      <td>Energy</td>\n",
              "      <td>749.34</td>\n",
              "      <td>55722.00</td>\n",
              "      <td>74.20</td>\n",
              "      <td>34.01</td>\n",
              "      <td>6172474.0</td>\n",
              "      <td>6.78</td>\n",
              "      <td>0.11</td>\n",
              "      <td>0.0464</td>\n",
              "      <td>17.7</td>\n",
              "      <td>0.86</td>\n",
              "      <td>6.11</td>\n",
              "    </tr>\n",
              "    <tr>\n",
              "      <th>2</th>\n",
              "      <td>AC3237</td>\n",
              "      <td>S&amp;P 500</td>\n",
              "      <td>Information Tech</td>\n",
              "      <td>567.75</td>\n",
              "      <td>3351.28</td>\n",
              "      <td>88.41</td>\n",
              "      <td>177.40</td>\n",
              "      <td>17472488.0</td>\n",
              "      <td>4.36</td>\n",
              "      <td>0.23</td>\n",
              "      <td>0.0401</td>\n",
              "      <td>1.0</td>\n",
              "      <td>0.93</td>\n",
              "      <td>4.99</td>\n",
              "    </tr>\n",
              "    <tr>\n",
              "      <th>3</th>\n",
              "      <td>AC3238</td>\n",
              "      <td>NSE</td>\n",
              "      <td>Healthcare</td>\n",
              "      <td>646.78</td>\n",
              "      <td>11270.15</td>\n",
              "      <td>79.36</td>\n",
              "      <td>105.44</td>\n",
              "      <td>15553159.0</td>\n",
              "      <td>2.77</td>\n",
              "      <td>0.78</td>\n",
              "      <td>0.0187</td>\n",
              "      <td>74.9</td>\n",
              "      <td>1.09</td>\n",
              "      <td>1.26</td>\n",
              "    </tr>\n",
              "    <tr>\n",
              "      <th>4</th>\n",
              "      <td>AC3239</td>\n",
              "      <td>NYSE</td>\n",
              "      <td>Materials</td>\n",
              "      <td>380.33</td>\n",
              "      <td>12765.84</td>\n",
              "      <td>19.90</td>\n",
              "      <td>139.40</td>\n",
              "      <td>12525784.0</td>\n",
              "      <td>5.93</td>\n",
              "      <td>0.03</td>\n",
              "      <td>0.0261</td>\n",
              "      <td>1.0</td>\n",
              "      <td>NaN</td>\n",
              "      <td>6.18</td>\n",
              "    </tr>\n",
              "  </tbody>\n",
              "</table>\n",
              "</div>"
            ],
            "text/plain": [
              "  Stock Index    Index  ... Put-Call Ratio  P/B Ratio\n",
              "0      AC3235      NSE  ...           0.80       4.66\n",
              "1      AC3236      JSE  ...           0.86       6.11\n",
              "2      AC3237  S&P 500  ...           0.93       4.99\n",
              "3      AC3238      NSE  ...           1.09       1.26\n",
              "4      AC3239     NYSE  ...            NaN       6.18\n",
              "\n",
              "[5 rows x 14 columns]"
            ]
          },
          "metadata": {
            "tags": []
          },
          "execution_count": 59
        }
      ]
    },
    {
      "cell_type": "code",
      "metadata": {
        "id": "uYClKewiWTxK",
        "colab_type": "code",
        "colab": {}
      },
      "source": [
        "test_data['Put-Call Ratio'] = Y_pred"
      ],
      "execution_count": null,
      "outputs": []
    },
    {
      "cell_type": "code",
      "metadata": {
        "id": "8IYH214oWoFh",
        "colab_type": "code",
        "colab": {
          "base_uri": "https://localhost:8080/",
          "height": 241
        },
        "outputId": "18b7ff4b-9a44-451f-f6ff-78847a7a267b"
      },
      "source": [
        "test_data.head()"
      ],
      "execution_count": null,
      "outputs": [
        {
          "output_type": "execute_result",
          "data": {
            "text/html": [
              "<div>\n",
              "<style scoped>\n",
              "    .dataframe tbody tr th:only-of-type {\n",
              "        vertical-align: middle;\n",
              "    }\n",
              "\n",
              "    .dataframe tbody tr th {\n",
              "        vertical-align: top;\n",
              "    }\n",
              "\n",
              "    .dataframe thead th {\n",
              "        text-align: right;\n",
              "    }\n",
              "</style>\n",
              "<table border=\"1\" class=\"dataframe\">\n",
              "  <thead>\n",
              "    <tr style=\"text-align: right;\">\n",
              "      <th></th>\n",
              "      <th>Stock Index</th>\n",
              "      <th>Index</th>\n",
              "      <th>Industry</th>\n",
              "      <th>VWAP</th>\n",
              "      <th>General Index</th>\n",
              "      <th>NAV</th>\n",
              "      <th>P/E Ratio</th>\n",
              "      <th>Volumes Traded</th>\n",
              "      <th>Inventory Turnover</th>\n",
              "      <th>Covid Impact (Beta)</th>\n",
              "      <th>Tracking Error</th>\n",
              "      <th>Dollar Exchange Rate</th>\n",
              "      <th>Put-Call Ratio</th>\n",
              "      <th>P/B Ratio</th>\n",
              "    </tr>\n",
              "  </thead>\n",
              "  <tbody>\n",
              "    <tr>\n",
              "      <th>0</th>\n",
              "      <td>AC3235</td>\n",
              "      <td>NSE</td>\n",
              "      <td>Materials</td>\n",
              "      <td>53.30</td>\n",
              "      <td>11270.15</td>\n",
              "      <td>44.59</td>\n",
              "      <td>185.09</td>\n",
              "      <td>12067855.0</td>\n",
              "      <td>2.78</td>\n",
              "      <td>0.03</td>\n",
              "      <td>0.0330</td>\n",
              "      <td>74.9</td>\n",
              "      <td>0.913884</td>\n",
              "      <td>4.66</td>\n",
              "    </tr>\n",
              "    <tr>\n",
              "      <th>1</th>\n",
              "      <td>AC3236</td>\n",
              "      <td>JSE</td>\n",
              "      <td>Energy</td>\n",
              "      <td>749.34</td>\n",
              "      <td>55722.00</td>\n",
              "      <td>74.20</td>\n",
              "      <td>34.01</td>\n",
              "      <td>6172474.0</td>\n",
              "      <td>6.78</td>\n",
              "      <td>0.11</td>\n",
              "      <td>0.0464</td>\n",
              "      <td>17.7</td>\n",
              "      <td>1.067779</td>\n",
              "      <td>6.11</td>\n",
              "    </tr>\n",
              "    <tr>\n",
              "      <th>2</th>\n",
              "      <td>AC3237</td>\n",
              "      <td>S&amp;P 500</td>\n",
              "      <td>Information Tech</td>\n",
              "      <td>567.75</td>\n",
              "      <td>3351.28</td>\n",
              "      <td>88.41</td>\n",
              "      <td>177.40</td>\n",
              "      <td>17472488.0</td>\n",
              "      <td>4.36</td>\n",
              "      <td>0.23</td>\n",
              "      <td>0.0401</td>\n",
              "      <td>1.0</td>\n",
              "      <td>1.272579</td>\n",
              "      <td>4.99</td>\n",
              "    </tr>\n",
              "    <tr>\n",
              "      <th>3</th>\n",
              "      <td>AC3238</td>\n",
              "      <td>NSE</td>\n",
              "      <td>Healthcare</td>\n",
              "      <td>646.78</td>\n",
              "      <td>11270.15</td>\n",
              "      <td>79.36</td>\n",
              "      <td>105.44</td>\n",
              "      <td>15553159.0</td>\n",
              "      <td>2.77</td>\n",
              "      <td>0.78</td>\n",
              "      <td>0.0187</td>\n",
              "      <td>74.9</td>\n",
              "      <td>1.666919</td>\n",
              "      <td>1.26</td>\n",
              "    </tr>\n",
              "    <tr>\n",
              "      <th>4</th>\n",
              "      <td>AC3239</td>\n",
              "      <td>NYSE</td>\n",
              "      <td>Materials</td>\n",
              "      <td>380.33</td>\n",
              "      <td>12765.84</td>\n",
              "      <td>19.90</td>\n",
              "      <td>139.40</td>\n",
              "      <td>12525784.0</td>\n",
              "      <td>5.93</td>\n",
              "      <td>0.03</td>\n",
              "      <td>0.0261</td>\n",
              "      <td>1.0</td>\n",
              "      <td>1.862782</td>\n",
              "      <td>6.18</td>\n",
              "    </tr>\n",
              "  </tbody>\n",
              "</table>\n",
              "</div>"
            ],
            "text/plain": [
              "  Stock Index    Index  ... Put-Call Ratio  P/B Ratio\n",
              "0      AC3235      NSE  ...       0.913884       4.66\n",
              "1      AC3236      JSE  ...       1.067779       6.11\n",
              "2      AC3237  S&P 500  ...       1.272579       4.99\n",
              "3      AC3238      NSE  ...       1.666919       1.26\n",
              "4      AC3239     NYSE  ...       1.862782       6.18\n",
              "\n",
              "[5 rows x 14 columns]"
            ]
          },
          "metadata": {
            "tags": []
          },
          "execution_count": 61
        }
      ]
    },
    {
      "cell_type": "code",
      "metadata": {
        "id": "lossTH_1WxiN",
        "colab_type": "code",
        "colab": {}
      },
      "source": [
        "test_data.to_csv('/content/gdrive/My Drive/hackathon/test_data_from_rnn.csv')"
      ],
      "execution_count": null,
      "outputs": []
    },
    {
      "cell_type": "code",
      "metadata": {
        "id": "uoHXmXcJW_TZ",
        "colab_type": "code",
        "colab": {}
      },
      "source": [
        ""
      ],
      "execution_count": null,
      "outputs": []
    }
  ]
}